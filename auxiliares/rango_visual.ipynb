{
  "nbformat": 4,
  "nbformat_minor": 0,
  "metadata": {
    "colab": {
      "provenance": []
    },
    "kernelspec": {
      "name": "python3",
      "display_name": "Python 3"
    },
    "language_info": {
      "name": "python"
    }
  },
  "cells": [
    {
      "cell_type": "code",
      "execution_count": null,
      "metadata": {
        "id": "dxHfSHC2JL5h"
      },
      "outputs": [],
      "source": [
        "import numpy as np\n",
        "import matplotlib.pyplot as plt\n",
        "import ipywidgets as widgets\n",
        "from IPython.display import display, clear_output\n",
        "import matplotlib.patches as patches\n",
        "\n",
        "# Rango de valores permitidos\n",
        "L_izq, L_der = -10, 20\n",
        "\n",
        "# Inicializar valores de los 7 datos ajustables\n",
        "bloques = np.random.randint(L_izq, L_der, size=7)\n",
        "\n",
        "# Crear sliders interactivos\n",
        "sliders = [widgets.IntSlider(value=bloques[i], min=L_izq, max=L_der, step=1, description=f\"V{i+1}\") for i in range(7)]\n",
        "\n",
        "def actualizar(**valores):\n",
        "    clear_output(wait=True)\n",
        "\n",
        "    # Extraer los valores de los sliders\n",
        "    bloques_actualizados = np.sort(np.array(list(valores.values())))\n",
        "\n",
        "    # Calcular el rango\n",
        "    max_val = max(bloques_actualizados)\n",
        "    min_val = min(bloques_actualizados)\n",
        "    rango = max_val - min_val\n",
        "    rango_texto = f\"Rango = {max_val} - {min_val} = {rango}\"\n",
        "\n",
        "    # Para acumular los círculos verticalmente en la misma posición\n",
        "    alturas = {x: 0 for x in set(bloques_actualizados)}\n",
        "\n",
        "    fig, ax = plt.subplots(figsize=(12, 6))\n",
        "\n",
        "    # Ocultar los ejes\n",
        "    ax.set_xticks([]), ax.set_yticks([])\n",
        "    ax.spines[\"top\"].set_visible(False)\n",
        "    ax.spines[\"right\"].set_visible(False)\n",
        "    ax.spines[\"left\"].set_visible(False)\n",
        "    ax.spines[\"bottom\"].set_visible(False)\n",
        "\n",
        "    # Dibujar la barra horizontal extendida\n",
        "    plt.plot([L_izq, L_der], [0, 0], 'k-', lw=3)\n",
        "\n",
        "    # Dibujar las esferas (elipses)\n",
        "    ancho_elipse, alto_elipse = 1.2, 1.2\n",
        "\n",
        "    for x in bloques_actualizados:\n",
        "        y = alturas[x]\n",
        "        color = \"blue\"\n",
        "\n",
        "        elipse = patches.Ellipse((x, y + 0.5), ancho_elipse, alto_elipse, fc=color, ec=\"black\", lw=1.5)\n",
        "        ax.add_patch(elipse)\n",
        "\n",
        "        ax.text(x, y + 0.5, str(x), ha=\"center\", va=\"center\", fontsize=12, color=\"white\", fontweight=\"bold\")\n",
        "\n",
        "        alturas[x] += 1\n",
        "\n",
        "    # Mostrar el rango con el formato requerido\n",
        "    ax.text(L_izq, max(alturas.values(), default=1) + 2, rango_texto,\n",
        "            fontsize=12, color=\"red\", fontweight=\"bold\", va=\"top\")\n",
        "\n",
        "    plt.xlim(L_izq - 5, L_der + 5)\n",
        "    plt.ylim(-3, max(alturas.values(), default=1) + 5)\n",
        "    plt.show()\n",
        "\n",
        "# Crear la interfaz interactiva sin mostrar sliders dentro de la función\n",
        "interactive_plot = widgets.interactive_output(actualizar, {f\"v{i}\": sliders[i] for i in range(7)})\n",
        "\n",
        "# Mostrar el gráfico arriba y los sliders abajo (sin duplicación)\n",
        "display(interactive_plot)\n",
        "display(widgets.HBox(sliders))\n"
      ]
    }
  ]
}