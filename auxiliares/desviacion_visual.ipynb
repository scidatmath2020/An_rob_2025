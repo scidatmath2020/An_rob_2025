{
  "nbformat": 4,
  "nbformat_minor": 0,
  "metadata": {
    "colab": {
      "provenance": []
    },
    "kernelspec": {
      "name": "python3",
      "display_name": "Python 3"
    },
    "language_info": {
      "name": "python"
    }
  },
  "cells": [
    {
      "cell_type": "code",
      "source": [
        "import numpy as np\n",
        "import matplotlib.pyplot as plt\n",
        "from ipywidgets import interact\n",
        "\n",
        "def f_x(x):\n",
        "    return (x**2 * np.exp(-x)) / 2\n",
        "\n",
        "x_vals = np.linspace(0, 10, 500)\n",
        "y_vals = f_x(x_vals)\n",
        "\n",
        "# Media de la distribución\n",
        "mu = 3\n",
        "\n",
        "@interact(y_slider=(0, 0.5, 0.001))\n",
        "def update_plot(y_slider=0.2):\n",
        "    plt.figure(figsize=(8, 5))\n",
        "\n",
        "    # Rellenar el área bajo la curva\n",
        "    plt.fill_between(x_vals, y_vals, color='yellow', alpha=0.5)\n",
        "\n",
        "    # Graficar la curva en negro y más gruesa\n",
        "    plt.plot(x_vals, y_vals, color='black', linewidth=2)\n",
        "\n",
        "    # Línea vertical en la media (sólida)\n",
        "    plt.axvline(mu, linestyle='-', color='red')\n",
        "\n",
        "    # Punto controlado por el deslizador\n",
        "    plt.scatter([mu], [y_slider], color='black', zorder=3)\n",
        "\n",
        "    # Encontrar puntos sobre la curva donde f(x) = y_slider\n",
        "    mask = np.isclose(y_vals, y_slider, atol=0.01)\n",
        "    x_sol = x_vals[mask]\n",
        "\n",
        "    # Dibujar segmentos desde (3, y) a los puntos de intersección\n",
        "    for x in x_sol:\n",
        "        plt.plot([mu, x], [y_slider, y_slider], color='purple', linestyle='dotted')\n",
        "\n",
        "    plt.ylim(-0.05, 0.6)\n",
        "    plt.xlim(0, 10)\n",
        "    plt.xlabel(r'$x$')\n",
        "    plt.ylabel(r'$f_X(x)$')\n",
        "    plt.show()\n",
        "\n"
      ],
      "metadata": {
        "id": "y-C01aMs3UCi"
      },
      "execution_count": null,
      "outputs": []
    }
  ]
}