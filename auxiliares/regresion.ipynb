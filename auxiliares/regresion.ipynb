{
  "nbformat": 4,
  "nbformat_minor": 0,
  "metadata": {
    "colab": {
      "provenance": []
    },
    "kernelspec": {
      "name": "python3",
      "display_name": "Python 3"
    },
    "language_info": {
      "name": "python"
    },
    "widgets": {
      "application/vnd.jupyter.widget-state+json": {
        "8f357ca758324a4aadc5ae9bf2947157": {
          "model_module": "@jupyter-widgets/controls",
          "model_name": "FloatSliderModel",
          "model_module_version": "1.5.0",
          "state": {
            "_dom_classes": [],
            "_model_module": "@jupyter-widgets/controls",
            "_model_module_version": "1.5.0",
            "_model_name": "FloatSliderModel",
            "_view_count": null,
            "_view_module": "@jupyter-widgets/controls",
            "_view_module_version": "1.5.0",
            "_view_name": "FloatSliderView",
            "continuous_update": true,
            "description": "X:",
            "description_tooltip": null,
            "disabled": false,
            "layout": "IPY_MODEL_e890539d05cb4dce8cdece67466e0295",
            "max": 30,
            "min": -20,
            "orientation": "horizontal",
            "readout": true,
            "readout_format": ".2f",
            "step": 0.1,
            "style": "IPY_MODEL_e055931ecec048ca9a72775a0386d8cb",
            "value": 5
          }
        },
        "e890539d05cb4dce8cdece67466e0295": {
          "model_module": "@jupyter-widgets/base",
          "model_name": "LayoutModel",
          "model_module_version": "1.2.0",
          "state": {
            "_model_module": "@jupyter-widgets/base",
            "_model_module_version": "1.2.0",
            "_model_name": "LayoutModel",
            "_view_count": null,
            "_view_module": "@jupyter-widgets/base",
            "_view_module_version": "1.2.0",
            "_view_name": "LayoutView",
            "align_content": null,
            "align_items": null,
            "align_self": null,
            "border": null,
            "bottom": null,
            "display": null,
            "flex": null,
            "flex_flow": null,
            "grid_area": null,
            "grid_auto_columns": null,
            "grid_auto_flow": null,
            "grid_auto_rows": null,
            "grid_column": null,
            "grid_gap": null,
            "grid_row": null,
            "grid_template_areas": null,
            "grid_template_columns": null,
            "grid_template_rows": null,
            "height": null,
            "justify_content": null,
            "justify_items": null,
            "left": null,
            "margin": null,
            "max_height": null,
            "max_width": null,
            "min_height": null,
            "min_width": null,
            "object_fit": null,
            "object_position": null,
            "order": null,
            "overflow": null,
            "overflow_x": null,
            "overflow_y": null,
            "padding": null,
            "right": null,
            "top": null,
            "visibility": null,
            "width": null
          }
        },
        "e055931ecec048ca9a72775a0386d8cb": {
          "model_module": "@jupyter-widgets/controls",
          "model_name": "SliderStyleModel",
          "model_module_version": "1.5.0",
          "state": {
            "_model_module": "@jupyter-widgets/controls",
            "_model_module_version": "1.5.0",
            "_model_name": "SliderStyleModel",
            "_view_count": null,
            "_view_module": "@jupyter-widgets/base",
            "_view_module_version": "1.2.0",
            "_view_name": "StyleView",
            "description_width": "",
            "handle_color": null
          }
        },
        "e993ca7762754a59a7d9377e2acde676": {
          "model_module": "@jupyter-widgets/controls",
          "model_name": "FloatSliderModel",
          "model_module_version": "1.5.0",
          "state": {
            "_dom_classes": [],
            "_model_module": "@jupyter-widgets/controls",
            "_model_module_version": "1.5.0",
            "_model_name": "FloatSliderModel",
            "_view_count": null,
            "_view_module": "@jupyter-widgets/controls",
            "_view_module_version": "1.5.0",
            "_view_name": "FloatSliderView",
            "continuous_update": true,
            "description": "Y:",
            "description_tooltip": null,
            "disabled": false,
            "layout": "IPY_MODEL_c997c0ae3bac423ca3c49e1b2167ba36",
            "max": 100,
            "min": -100,
            "orientation": "horizontal",
            "readout": true,
            "readout_format": ".2f",
            "step": 0.1,
            "style": "IPY_MODEL_49f80c5c36ce4d57834aca261a7b5744",
            "value": 5
          }
        },
        "c997c0ae3bac423ca3c49e1b2167ba36": {
          "model_module": "@jupyter-widgets/base",
          "model_name": "LayoutModel",
          "model_module_version": "1.2.0",
          "state": {
            "_model_module": "@jupyter-widgets/base",
            "_model_module_version": "1.2.0",
            "_model_name": "LayoutModel",
            "_view_count": null,
            "_view_module": "@jupyter-widgets/base",
            "_view_module_version": "1.2.0",
            "_view_name": "LayoutView",
            "align_content": null,
            "align_items": null,
            "align_self": null,
            "border": null,
            "bottom": null,
            "display": null,
            "flex": null,
            "flex_flow": null,
            "grid_area": null,
            "grid_auto_columns": null,
            "grid_auto_flow": null,
            "grid_auto_rows": null,
            "grid_column": null,
            "grid_gap": null,
            "grid_row": null,
            "grid_template_areas": null,
            "grid_template_columns": null,
            "grid_template_rows": null,
            "height": null,
            "justify_content": null,
            "justify_items": null,
            "left": null,
            "margin": null,
            "max_height": null,
            "max_width": null,
            "min_height": null,
            "min_width": null,
            "object_fit": null,
            "object_position": null,
            "order": null,
            "overflow": null,
            "overflow_x": null,
            "overflow_y": null,
            "padding": null,
            "right": null,
            "top": null,
            "visibility": null,
            "width": null
          }
        },
        "49f80c5c36ce4d57834aca261a7b5744": {
          "model_module": "@jupyter-widgets/controls",
          "model_name": "SliderStyleModel",
          "model_module_version": "1.5.0",
          "state": {
            "_model_module": "@jupyter-widgets/controls",
            "_model_module_version": "1.5.0",
            "_model_name": "SliderStyleModel",
            "_view_count": null,
            "_view_module": "@jupyter-widgets/base",
            "_view_module_version": "1.2.0",
            "_view_name": "StyleView",
            "description_width": "",
            "handle_color": null
          }
        },
        "81877d8036844308a3d5cbf61acfe9a6": {
          "model_module": "@jupyter-widgets/output",
          "model_name": "OutputModel",
          "model_module_version": "1.0.0",
          "state": {
            "_dom_classes": [],
            "_model_module": "@jupyter-widgets/output",
            "_model_module_version": "1.0.0",
            "_model_name": "OutputModel",
            "_view_count": null,
            "_view_module": "@jupyter-widgets/output",
            "_view_module_version": "1.0.0",
            "_view_name": "OutputView",
            "layout": "IPY_MODEL_c1399a9ec7194c4ca4a99b326b8e6759",
            "msg_id": "",
            "outputs": [
              {
                "output_type": "display_data",
                "data": {
                  "text/plain": "<Figure size 1000x600 with 1 Axes>",
                  "image/png": "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\n"
                },
                "metadata": {}
              }
            ]
          }
        },
        "c1399a9ec7194c4ca4a99b326b8e6759": {
          "model_module": "@jupyter-widgets/base",
          "model_name": "LayoutModel",
          "model_module_version": "1.2.0",
          "state": {
            "_model_module": "@jupyter-widgets/base",
            "_model_module_version": "1.2.0",
            "_model_name": "LayoutModel",
            "_view_count": null,
            "_view_module": "@jupyter-widgets/base",
            "_view_module_version": "1.2.0",
            "_view_name": "LayoutView",
            "align_content": null,
            "align_items": null,
            "align_self": null,
            "border": null,
            "bottom": null,
            "display": null,
            "flex": null,
            "flex_flow": null,
            "grid_area": null,
            "grid_auto_columns": null,
            "grid_auto_flow": null,
            "grid_auto_rows": null,
            "grid_column": null,
            "grid_gap": null,
            "grid_row": null,
            "grid_template_areas": null,
            "grid_template_columns": null,
            "grid_template_rows": null,
            "height": null,
            "justify_content": null,
            "justify_items": null,
            "left": null,
            "margin": null,
            "max_height": null,
            "max_width": null,
            "min_height": null,
            "min_width": null,
            "object_fit": null,
            "object_position": null,
            "order": null,
            "overflow": null,
            "overflow_x": null,
            "overflow_y": null,
            "padding": null,
            "right": null,
            "top": null,
            "visibility": null,
            "width": null
          }
        }
      }
    }
  },
  "cells": [
    {
      "cell_type": "code",
      "execution_count": 9,
      "metadata": {
        "colab": {
          "base_uri": "https://localhost:8080/",
          "height": 614,
          "referenced_widgets": [
            "8f357ca758324a4aadc5ae9bf2947157",
            "e890539d05cb4dce8cdece67466e0295",
            "e055931ecec048ca9a72775a0386d8cb",
            "e993ca7762754a59a7d9377e2acde676",
            "c997c0ae3bac423ca3c49e1b2167ba36",
            "49f80c5c36ce4d57834aca261a7b5744",
            "81877d8036844308a3d5cbf61acfe9a6",
            "c1399a9ec7194c4ca4a99b326b8e6759"
          ]
        },
        "id": "_EKtEPrZREir",
        "outputId": "d9829d13-a4f4-4390-9352-16ab9111bb38"
      },
      "outputs": [
        {
          "output_type": "display_data",
          "data": {
            "text/plain": [
              "FloatSlider(value=5.0, description='X:', max=30.0, min=-20.0)"
            ],
            "application/vnd.jupyter.widget-view+json": {
              "version_major": 2,
              "version_minor": 0,
              "model_id": "8f357ca758324a4aadc5ae9bf2947157"
            }
          },
          "metadata": {}
        },
        {
          "output_type": "display_data",
          "data": {
            "text/plain": [
              "FloatSlider(value=5.0, description='Y:', min=-100.0)"
            ],
            "application/vnd.jupyter.widget-view+json": {
              "version_major": 2,
              "version_minor": 0,
              "model_id": "e993ca7762754a59a7d9377e2acde676"
            }
          },
          "metadata": {}
        },
        {
          "output_type": "display_data",
          "data": {
            "text/plain": [
              "Output()"
            ],
            "application/vnd.jupyter.widget-view+json": {
              "version_major": 2,
              "version_minor": 0,
              "model_id": "81877d8036844308a3d5cbf61acfe9a6"
            }
          },
          "metadata": {}
        }
      ],
      "source": [
        "import numpy as np\n",
        "import matplotlib.pyplot as plt\n",
        "from sklearn.linear_model import LinearRegression\n",
        "import ipywidgets as widgets\n",
        "from IPython.display import display\n",
        "\n",
        "# Generar datos más espaciados\n",
        "np.random.seed(42)\n",
        "X_data = np.linspace(0, 20, 15)  # Más separación entre puntos\n",
        "Y_data = 2.5 * X_data + np.random.normal(0, 3, 15)\n",
        "\n",
        "# Crear widgets con valores extremos permitidos\n",
        "X_slider = widgets.FloatSlider(value=5, min=-20, max=30, step=0.1, description=\"X:\")\n",
        "Y_slider = widgets.FloatSlider(value=5, min=-100, max=100, step=0.1, description=\"Y:\")\n",
        "\n",
        "# Output para evitar gráficos duplicados\n",
        "output = widgets.Output()\n",
        "\n",
        "# Función para actualizar el gráfico\n",
        "def update_plot(X_fixed, Y_fixed):\n",
        "    with output:\n",
        "        output.clear_output(wait=True)\n",
        "\n",
        "        plt.figure(figsize=(10, 6))  # Gráfico más grande\n",
        "\n",
        "        # Agregar el punto modificado como anomalía\n",
        "        X_full = np.append(X_data, X_fixed).reshape(-1, 1)\n",
        "        Y_full = np.append(Y_data, Y_fixed)\n",
        "\n",
        "        # Ajustar modelo\n",
        "        model = LinearRegression()\n",
        "        model.fit(X_full, Y_full)\n",
        "\n",
        "        # Crear recta extendida\n",
        "        X_range = np.linspace(-20, 30, 100).reshape(-1, 1)\n",
        "        Y_range = model.predict(X_range)\n",
        "\n",
        "        # Graficar\n",
        "        plt.scatter(X_data, Y_data, color='blue', alpha=0.7, s=50)\n",
        "        plt.scatter(X_fixed, Y_fixed, color='red', s=50)  # Punto del mismo tamaño\n",
        "        plt.plot(X_range, Y_range, color='green')\n",
        "\n",
        "        plt.xlim(-20, 30)\n",
        "        plt.ylim(-100, 100)\n",
        "        plt.xlabel(\"X\", fontsize=14)\n",
        "        plt.ylabel(\"Y\", fontsize=14)\n",
        "        plt.grid(True)\n",
        "        plt.show()\n",
        "\n",
        "# Función que se activa al mover los sliders\n",
        "def on_value_change(change):\n",
        "    update_plot(X_slider.value, Y_slider.value)\n",
        "\n",
        "# Conectar sliders con la función\n",
        "X_slider.observe(on_value_change, names='value')\n",
        "Y_slider.observe(on_value_change, names='value')\n",
        "\n",
        "# Mostrar widgets y área de gráfico\n",
        "display(X_slider, Y_slider, output)\n",
        "\n",
        "# Llamar a la función solo una vez al inicio\n",
        "update_plot(X_slider.value, Y_slider.value)\n",
        "\n",
        "\n"
      ]
    }
  ]
}