{
  "nbformat": 4,
  "nbformat_minor": 0,
  "metadata": {
    "colab": {
      "provenance": []
    },
    "kernelspec": {
      "name": "python3",
      "display_name": "Python 3"
    },
    "language_info": {
      "name": "python"
    }
  },
  "cells": [
    {
      "cell_type": "code",
      "source": [
        "import numpy as np\n",
        "import matplotlib.pyplot as plt\n",
        "import ipywidgets as widgets\n",
        "from IPython.display import display\n",
        "import matplotlib.transforms as transforms\n",
        "from scipy.stats import gaussian_kde\n",
        "\n",
        "# Generar datos\n",
        "np.random.seed(42)\n",
        "datos = np.random.gamma(shape=3, scale=1, size=500)\n",
        "L = 10  # Longitud de la \"barra\"\n",
        "\n",
        "color_curva = \"black\"\n",
        "color_triangulo = \"red\"\n",
        "color_relleno = \"yellow\"\n",
        "\n",
        "esperanza = np.mean(datos)\n",
        "\n",
        "def actualizar(punto_apoyo):\n",
        "    fig, ax = plt.subplots(figsize=(8, 5))\n",
        "\n",
        "    # Calcular la curva de densidad\n",
        "    kde = gaussian_kde(datos)\n",
        "    x_vals = np.linspace(0, L, 300)\n",
        "    y_vals = kde(x_vals)\n",
        "\n",
        "    # Aumentar la escala de la curva\n",
        "    factor_escala = 10  # Ajusta este valor para hacer la curva más grande\n",
        "    y_vals *= factor_escala\n",
        "\n",
        "    # Calcular inclinación\n",
        "    inclinacion = 10 * (punto_apoyo - esperanza)\n",
        "    tr = transforms.Affine2D().rotate_deg_around(punto_apoyo, 0, inclinacion) + ax.transData\n",
        "\n",
        "    # Dibujar la curva de densidad\n",
        "    ax.plot(x_vals, y_vals, color=color_curva, lw=2, transform=tr)\n",
        "\n",
        "    # Rellenar el área bajo la curva\n",
        "    ax.fill_between(x_vals, 0, y_vals, color=color_relleno, alpha=0.6, transform=tr)\n",
        "\n",
        "    # Dibujar la \"barra\"\n",
        "    ax.plot([0, L], [0, 0], 'k-', lw=3, transform=tr)\n",
        "\n",
        "    # Dibujar el punto de apoyo\n",
        "    base_ancho = 0.3  # Triángulo más pequeño\n",
        "    altura_triangulo = 0.2\n",
        "    ax.add_patch(plt.Polygon([[punto_apoyo - base_ancho / 2, -altura_triangulo],\n",
        "                               [punto_apoyo + base_ancho / 2, -altura_triangulo],\n",
        "                               [punto_apoyo, 0]],\n",
        "                              fc=color_triangulo, alpha=1, edgecolor=\"black\", lw=1.5))\n",
        "\n",
        "    # Configuración de ejes\n",
        "    ax.set_xticks([])\n",
        "    ax.set_yticks([])\n",
        "    ax.spines[\"top\"].set_visible(False)\n",
        "    ax.spines[\"right\"].set_visible(False)\n",
        "    ax.spines[\"left\"].set_visible(False)\n",
        "    ax.spines[\"bottom\"].set_visible(False)\n",
        "\n",
        "    plt.xlim(-1, L + 1)\n",
        "    plt.ylim(-0.5, max(y_vals) + 0.5)\n",
        "    plt.show()\n",
        "\n",
        "# Crear el deslizador\n",
        "slider = widgets.FloatSlider(value=esperanza, min=1, max=9, step=0.01, description=\"P. Apoyo\")\n",
        "interactive_plot = widgets.interactive(actualizar, punto_apoyo=slider)\n",
        "display(interactive_plot)\n"
      ],
      "metadata": {
        "id": "TL5aNBL3LM9N"
      },
      "execution_count": null,
      "outputs": []
    }
  ]
}