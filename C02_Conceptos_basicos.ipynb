{
 "cells": [
  {
   "cell_type": "markdown",
   "id": "aa83edd2-714c-4a4c-9010-159a67444444",
   "metadata": {},
   "source": [
    "![imagenes](logo.png)"
   ]
  },
  {
   "cell_type": "markdown",
   "id": "2c5efc6d-b6f6-4c2b-baef-4a851bb328a6",
   "metadata": {},
   "source": [
    "# Conceptos básicos\n",
    "\n",
    "En este apartado veremos los primeros conceptos básicos que debes conocer antes de continuar con la siguiente sección. "
   ]
  },
  {
   "cell_type": "markdown",
   "id": "d1f5fa28-dfbf-4b77-9ca1-de949d8c2450",
   "metadata": {},
   "source": [
    "## Muestras y poblaciones\n",
    "\n"
   ]
  },
  {
   "cell_type": "markdown",
   "id": "40b3d616-c244-4555-84e3-0913676d0e36",
   "metadata": {},
   "source": [
    "Una **población** es un conjunto sobre el cual queremos hacer alguna inferencia. La población se trata del *grupo completo* que queremos estudiar. Por ejemplo, todos los votantes de un país, todos los focos producidos por una empresa durante un mes, **estellas en una cierta galaxia**, los televidentes de una serie o programa, o las personas susceptibles a contagiarse de una cierta enfermedad.   \n",
    "\n",
    "De esta manera, el problema principal de la Estadística Inferencial es hacer inferencias acerca de la población de interes. Por ejemplo, cómo se repartirán los votos de los votantes, qué porcentaje de focos producidos son defectuosos, cuál es el brillo promedio de las estrellas en la galaxia, el valor promedio del gusto de los televidentes de una serie, o en qué porcentaje funciona un medicamento en personas susceptibles a contagiarse de cierta enfermedad.\n",
    "\n",
    "Por su parte, como lo palabra lo indica, una **muestra** es un subconjunto de algo más grande; en este caso, un subconjunto de la población. En general, tomar la población de interés para medir la característica de estudio es imposible, debido a recursos económicos, técnicos o de tiempo. Por ejemplo, para conocer el brillo promedio de las estrellas en la galaxia es imposible que midamos el brillo de todas sus estrellas. Es por ello que tomamos una muestra en la cual los factores anteriores (falta de recursos mencionados previamente) no representen un problema.\n",
    "\n",
    "Un **muestreo aleatorio simple** es un procedimiento para seleccionar una muestra de la población, el cual tiene la característica de que si $a$ y $b$ son cualesquiera dos elementos de la población, entonces el total de muestras en las que vive $a$ es igual al total de muestras en las que vive $b$."
   ]
  },
  {
   "cell_type": "markdown",
   "id": "838ede0c-9e88-4e5f-9697-4fbe2537d1c6",
   "metadata": {},
   "source": [
    "## Variables aleatorias\n",
    "\n",
    "Una **variable alealtoria** es una característica de la población: por quién votará una persona; el foco funciona bien o no; el brillo de una estrella; qué calificación le da un televidente a un episodio de la serie; el medicamente sirve o no en la persona contagiada.\n",
    "\n",
    "Como quiera que sea, las variables aleatorias siempre se representan con números. Por ejemplo, 1 si el foco funciona bien o 0 si no lo hace; o la intensidad del brillo estelar; o la calificación que asigna el televidente; o 1 si el medicamento sirve y 0 si no sirve.\n",
    "\n",
    "Las **variables aleatorias** siguen *comportamientos generales*, aunque no siempre son evidentes. A ese comportamiento es a lo que llamamos **distribución de la variable aleatoria**. \n",
    "\n",
    "En general tenemos dos tipos de variables aleatorias: discretas y continuas. \n",
    "\n",
    "### Variables discretas y continuas\n",
    "\n",
    "Como hemos dicho, las variables aleatorias siempre se representan con números. Si el total de resultados es un conjunto finito o numerable, se dice que se trata de una variable discreta; en caso contrario, se dice que es una variable continua.\n",
    "\n",
    "Por ejemplo, la edad de los televidentes de una serie. Este valor, puede ser 0 años, 1 año, 2 años,..., 75 años, 76 años y probablemente más. Por lo tanto el conjunto de posibles edades **es contable**, así que se trata de una variable de tipo discreto. Por su parte, si al televidente se le pregunta la calificación de cierto capítulo y se le permite elegir cualquier valor entre 0 y 10, él podría decir 4.5, $\\pi$, 9.5437261, etc. Entonces el conjunto de valores que puede tomar esta variable aleatoria no es contable, por lo que es una variable **continua**.\n",
    "\n",
    "<img src=\"im003.png\" style=\"display:block; margin:auto;\">"
   ]
  },
  {
   "cell_type": "markdown",
   "id": "1759f0bb-77e9-4172-ac7b-b08d5f6b9712",
   "metadata": {},
   "source": [
    "Finalmente, el **rango** de una variable aleatoria son todos los posibles resultados que pueda tener.\n",
    "\n",
    "En resumen:\n",
    "\n",
    "* Nos va a interesar medir una característica de la población: **variable aleatoria**.\n",
    "\n",
    "* Dicha característica puede ser discreta o continua\n",
    "\n",
    "* Al no poder medir la característica en toda la población, utilizamos una **muestra**."
   ]
  },
  {
   "cell_type": "markdown",
   "id": "8d8402b2-be99-48a2-8c8e-fa3f42fe478b",
   "metadata": {},
   "source": [
    "## Distribución de una variable aleatoria\n",
    "\n",
    "Como hemos dicho, el comportamiento de una variable aleatoria es lo que se denomina **su distribución** o *ley de probabilidades*.\n",
    "\n",
    "Imagina que lanzas una moneda dos veces. Anotamos el número de caras que obtuvimos. De esta manera, los posibles resultados son 0,1 y 2: ninguna; una cara y una cruz o una cruz y una cara; ambas caras. Entonces el rango es $\\{0,1,2\\}$.\n",
    "\n",
    "Ahora observemos cada elemento del rango. Sabemos que los posibles resultados de los lanzamientos fueron *cara,cara*; *cara,cruz*; *cruz;cara* y *cruz,cruz*. Por lo tanto, el 0 solo se puede obtener de una manera. El 1 se puede obtener de dos manera; y el 2 se puede obtener de una manera. Como hay 4 posibles resultados, entonces lo anterior se escribe como $$P(0)=\\frac{1}{4},\\,P(1)=\\frac{2}{4},\\,P(2)=\\frac{1}{4}$$\n",
    "\n",
    "De esta manera, si $X$ es el número de caras obtenidas, entonces $$P(X=0)=\\frac{1}{4},\\,P(X=1)=\\frac{2}{4},\\,P(X=2)=\\frac{1}{4}$$\n",
    "\n",
    "En general, al número $P(X=x)$ se le denota por $f(x)$. A esta función $f$ se le llama **densidad**.\n",
    "\n",
    "Finalmente, la **distribución de una variable aleatoria** es la función que le asigna a cada número la probabilidad de que la variable aleatoria sea menor o igual que ese valor; se denota por $F$. Así si $x$ es un número cualquiera, entonces $$F(x)=P(X\\le x)$$\n",
    "\n",
    "En el ejemplo de las monedas: $$F(x)=\\left\\{\\begin{array}{l}0\\,\\mbox{ si }\\,x<0\\\\0.25\\,\\mbox{ si }\\,0\\le x<1\\\\0.75\\,\\mbox{ si }\\,1\\le x<2\\\\1\\,\\mbox{ si }\\,2\\le x \\end{array}\\right.$$"
   ]
  },
  {
   "cell_type": "markdown",
   "id": "eb48ae1c-742a-4027-88c3-bb9ceba928fb",
   "metadata": {},
   "source": [
    "Por lo tanto, la distribución y la densidad de una variable aleatoria se relacionan de la siguiente manera:\n",
    "\n",
    "* **Caso discreto.** En este caso $f(x)=P(X=x)$ y $$F(x)=P(X\\le x)=\\sum_{x\\in R}xf(x)$$\n",
    "\n",
    "* **Caso continuo.** En este caso $f(x)=F^\\prime(x)$ y $$F(x)=P(X\\le x)=\\int_{-\\infty}^x f(t)\\,\\mathrm{d}t$$"
   ]
  },
  {
   "cell_type": "markdown",
   "id": "6db3adcd-33d4-4b00-b6e2-a769c5b5b4c7",
   "metadata": {},
   "source": [
    "## Histogramas\n",
    "\n",
    "Una manera sencilla de entender la distribución de una variable aleatoria es mediante un gráfico de tipo **histograma**. Este es un tipo de gráfico que funciona dividiendo el rango de la variable aleatoria en segmentos iguales y ver cuántos valores caen en cada parte.\n",
    "\n",
    "<img src=\"im004.png\" style=\"display:block; margin:auto;\">"
   ]
  },
  {
   "cell_type": "markdown",
   "id": "0de8f4b3-209b-45f4-9a2e-022dbd6a8f75",
   "metadata": {},
   "source": [
    "## Media y varianza de una variable aleatoria\n",
    "\n",
    "Imagina la siguiente situación: tienes una barra de longitud 1 posicionada de forma horizontal sobre un bloque triangular. Sobre la barra colocas bloques cuadrados, todos de masa 1. Y debes mover el bloque triangular para equilibrar la barra:\n",
    "\n",
    "<img src=\"equilibrio_01.gif\" style=\"display:block; margin:auto;\">"
   ]
  },
  {
   "cell_type": "markdown",
   "id": "487f0218-3196-4c30-a5a4-b269b7362547",
   "metadata": {},
   "source": [
    "En este sentido, puedes pensar que los bloques son precisamente los edificios de un histograma, y por lo tanto la **media** o **esperanza** es el punto de apoyo que equilibra la barra (el triángulo rojo)."
   ]
  },
  {
   "cell_type": "markdown",
   "id": "7c2e1901-4e06-4bd0-8fa0-95e0134e4095",
   "metadata": {},
   "source": [
    "Matemáticamente, si $R$ es el rango de la variable aleatoria, entonces la esperanza se define como $$E[X]=\\sum_{x\\in R}xf(x)\\mbox{ si }X\\mbox{ es discreta}$$ y $$E[X]=\\int_{x\\in R}xf(x)\\,\\mathrm{d}x\\mbox{ si }X\\mbox{ es continua}$$\n",
    "\n",
    "Por lo tanto, la media o esperanza es el **valor promedio que toma la variable aleatoria**. Observa que, bajo la notación anterior, $f(x)$ no tiene unidades, pero $x$ sí. Por ejemplo, si $X$ es la estatura de los niños de una ciudad medida en metros o en centímetros, entonces su media también estará en metros o en centímetros, respectivamente."
   ]
  },
  {
   "cell_type": "markdown",
   "id": "13833ef7-d789-4891-8682-e667ba8b21ad",
   "metadata": {},
   "source": [
    "A su vez, la varianza es la manera en la cual medimos cuánto se alejan los datos, **en promedio**, de su propia media. Esto es $$Var(X)=E[(X-E[X])^2]=E[X^2]-E[X]^2$$\n",
    "\n",
    "Observa que las unidades de la varianza son las mismas que las de la media pero al cuadrado. Por ejemplo, si la variable aleatoria es la estatura de todos los niños de una ciudad, entonces le media estará en metros o centímetros; en tanto que la varianza estará en metros cuadrados o centímetros cuadrados.\n",
    "\n",
    "Por lo tanto la raíz cuadrada de la varianza estará en las mismas unidades que la media. A este valor se le llama **desviación de la variable aleatoria** o **desviación estándar**: $$sd(X)=\\sqrt{Var(X)}\\mbox{ que equivale a }sd^2(X)=Var(X)$$\n",
    "\n",
    "Así, conociendo la desviación se puede calcular la varianza, y viceversa."
   ]
  }
 ],
 "metadata": {
  "kernelspec": {
   "display_name": "Python [conda env:base] *",
   "language": "python",
   "name": "conda-base-py"
  },
  "language_info": {
   "codemirror_mode": {
    "name": "ipython",
    "version": 3
   },
   "file_extension": ".py",
   "mimetype": "text/x-python",
   "name": "python",
   "nbconvert_exporter": "python",
   "pygments_lexer": "ipython3",
   "version": "3.12.7"
  }
 },
 "nbformat": 4,
 "nbformat_minor": 5
}
