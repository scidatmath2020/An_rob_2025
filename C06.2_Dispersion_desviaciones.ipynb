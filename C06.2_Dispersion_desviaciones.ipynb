{
 "cells": [
  {
   "cell_type": "markdown",
   "id": "78fe9ef3-87ea-4844-8867-11cbe69653b9",
   "metadata": {},
   "source": [
    "![imagenes](logo.png)"
   ]
  },
  {
   "cell_type": "markdown",
   "id": "93359dfd-acd3-4f87-8957-e440fc615e6b",
   "metadata": {},
   "source": [
    "# Desviaciones\n",
    "\n",
    "La idea de los rangos, tanto del usual como del intercuartílico, es medir la *dispersion global* de los datos. No obstante, recordemos que en lecciones previas aprendimos que uno de los objetivos de la Inferencia Estadística es seleccionar inteligentemente un representante de los datos.\n",
    "\n",
    "Es por esto que podemos combinar ambas ideas y medir qué tanto se dispersan los datos respecto de un representante, y no solo globalmente. De esta manera, obtenemos dos nuevas métricas: la desviación típica (poblacional y muestral) y desviación media absoluta."
   ]
  },
  {
   "cell_type": "markdown",
   "id": "eb5d28e9-bb46-421b-9c83-3ff92138fa54",
   "metadata": {},
   "source": [
    "## Desviación típica\n",
    "\n",
    "Se trata de la dispersión de los datos respecto de la media. Existen dos tipos: desviación típica poblacional y desviación típica muestral. \n",
    "\n",
    "La desviacion típica poblacional se define como $$\\sigma=\\sqrt{\\frac{1}{N}\\sum_{i=1}^N(x_i-\\mu)^2}\\mbox{ donde }N\\mbox{ es el tamaño de la población y }\\mu\\mbox{ es el valor medio de la población}$$\n",
    "\n",
    "En tanto que la desviación típica muestral se define como $$s=\\sqrt{\\frac{1}{n-1}\\sum_{i=1}^n(x_i-\\overline{x})^2}\\mbox{ donde }n\\mbox{ es el tamaño de la muestra y }\\overline{x}\\mbox{ es el valor medio de la muestra}$$"
   ]
  },
  {
   "cell_type": "markdown",
   "id": "19697a96-bf1d-412a-8eb5-e60d5617db33",
   "metadata": {},
   "source": [
    "Una diferencia importante entre ambas es que, en general, recuerda que no conoceremos los parámetros poblacionales. En particular, no conoceremos la verdadera desviación poblacional de nuestra característica en la población de estudio. Por lo tanto, la desviación típica poblacional no se puede conocer y en la práctica trabajaremos con la desviación típica muestral.\n",
    "\n",
    "Por cierto, que es importante notar que el denominador de esta última es $n-1$. Esto se hace para obtener un **estimador insesgado**. \n",
    "\n",
    "\n",
    "\n",
    "\n",
    "\n"
   ]
  },
  {
   "cell_type": "markdown",
   "id": "1f45ac69-b424-4dfa-805d-2a90d6b447af",
   "metadata": {},
   "source": [
    "**Ejemplo.** Consideremos la siguiente muestra: 10,12,2,10,1,10,3. Por lo tanto $n=7$ y $\\overline{x}=6.8571$\n",
    "\n",
    "Entonces la varianza muestral es \n",
    "\\begin{eqnarray*}\n",
    "s^2&=&\\frac{(10-6.8571)^2+(12-6.8571)^2+(2-6.8571)^2+(10-6.8571)^2+(1-6.8571)^2+(10-6.8571)^2+(3-6.8571)^2}{7-1}\\\\\n",
    "&=&21.4761904761905\n",
    "\\end{eqnarray*}\n",
    "\n",
    "Y por lo tanto la desviación típica muestral es $s=\\sqrt{21.4761904761905}=4.63424108956261$\n",
    "\n",
    "Por otra parte, consideremos la muestra 10,12,2025,10,1,10,3. Entonces $n=7$, $\\overline{x}=295.86$ y la varianza muestral es \n",
    "\\begin{eqnarray*}\n",
    "s^2&=&\\frac{(10-295.86)^2+(12-295.86)^2+(2025-295.86)^2+(10-295.86)^2+(1-295.86)^2+(10-295.86)^2+(3-295.86)^2}{7-1}\\\\\n",
    "&=&581393.142857143\n",
    "\\end{eqnarray*}\n",
    "\n",
    "y lo tanto la desviación típica muestral es $s=\\sqrt{581393.142857143}=762.491405103784$\n"
   ]
  },
  {
   "cell_type": "markdown",
   "id": "06fc3fe4-e864-40b8-9caf-b27ea30b49dc",
   "metadata": {},
   "source": [
    "Como puede notarse, la desviación típica muestral es altamente sensible a la presencia de atípicos"
   ]
  },
  {
   "cell_type": "markdown",
   "id": "77d7d484-4973-48b0-9f1a-2db3d5fc8188",
   "metadata": {},
   "source": [
    "## MAD: desviación absoluta mediana\n",
    "\n",
    "Se trata de otra manera de medir la dispersión pero ahora con respecto a la mediana. Si $\\boldsymbol{x}$ son los datos $x_1,x_2,...,x_n$ entonces\n",
    "$$MAD=mediana(\\{|x_1-mediana(\\boldsymbol{x})|,|x_2-mediana(\\boldsymbol{x})|,...,|x_n-mediana(\\boldsymbol{x})|\\})$$"
   ]
  },
  {
   "cell_type": "markdown",
   "id": "71a59654-ff13-43d3-8df3-02308bc504e8",
   "metadata": {},
   "source": [
    "Es decir, se calcula la mediana de los datos y luego la mediana de las distancias entre los datos y la mediana original."
   ]
  },
  {
   "cell_type": "markdown",
   "id": "098e5839-674f-43c1-867a-1dcd0ee4e2cb",
   "metadata": {},
   "source": [
    "**Ejemplo.** Consideremos la siguiente muestra: 10,12,2,10,1,10,3. Entonces $mediana(\\boldsymbol{x})=10$.\n",
    "\n",
    "Por lo tanto \n",
    "\\begin{eqnarray*}\n",
    "MAD&=&mediana(\\{|10-10|,|12-10|,|2-10|,|10-10|,|1-10|,|10-10|,|3-10|\\})\\\\\n",
    "&=&mediana(\\{0,2,8,0,9,0,7\\})\\\\\n",
    "&=&2\n",
    "\\end{eqnarray*}\n",
    "\n",
    "Por otra parte, consideremos la muestra: 10,12,2025,10,1,10,3. Entonces $mediana(\\boldsymbol{x})=10$.\n",
    "\n",
    "Por lo tanto \n",
    "\\begin{eqnarray*}\n",
    "MAD&=&mediana(\\{|10-10|,|12-10|,|2025-10|,|10-10|,|1-10|,|10-10|,|3-10|\\})\\\\\n",
    "&=&mediana(\\{0,2,2015,0,9,0,7\\})\\\\\n",
    "&=&2\n",
    "\\end{eqnarray*}\n"
   ]
  },
  {
   "cell_type": "markdown",
   "id": "861083a1-4e22-40b9-9a7b-509eb4cc31ed",
   "metadata": {},
   "source": [
    "Como puede verse, en caso de presencia de atípicos, la **MAD es mejor medida de dispersión respecto de la mediana que la desviación respecto de la media.** "
   ]
  },
  {
   "cell_type": "markdown",
   "id": "44a815c3-83a9-4956-8079-ede1dedcff3f",
   "metadata": {},
   "source": [
    "## Desviación típica vs MAD\n",
    "\n",
    "Veamos ahora cómo implementar estas medidas de dispersión en diferentes lenguajes.\n",
    "\n",
    "<pre style=\"color: teal; font-family: monospace; text-align: left;\">\n",
    "################################################################\n",
    "#######################     En Excel     #######################\n",
    "################################################################\n",
    "</pre>\n",
    "\n",
    "| Medida  | Código                                   |\n",
    "|---------|-----------------------------------------|\n",
    "| Desviación típica   | `=DESVEST.M(celda_inicial:celda_final)` |\n",
    "| MAD | No hay función nativa|\n",
    "\n",
    "<pre style=\"color: teal; font-family: monospace; text-align: left;\">\n",
    "################################################################\n",
    "</pre>\n",
    "\n",
    "```r\n",
    "################################################################\n",
    "########################      EN R       #######################\n",
    "################################################################\n",
    "\n",
    "datos = c(10,12,2,10,1,10,3)\n",
    "datos_con_atipico = c(10,12,2025,10,1,10,3)\n",
    "\n",
    "desviacion_datos = sd(datos,na.rm=TRUE)\n",
    "desviacion_datos_con_atipico = sd(datos_con_atipico,na.rm=TRUE)\n",
    "\n",
    "MAD_datos = mad(datos,na.rm=TRUE,constant=1)\n",
    "MAD_datos_con_atipico = mad(datos_con_atipico,na.rm=TRUE,constant=1)\n",
    "\n",
    "################################################################\n",
    "```\n",
    "\n",
    "```python\n",
    "################################################################\n",
    "########################    EN PYTHON    #######################\n",
    "################################################################\n",
    "\n",
    "import numpy as np\n",
    "from scipy.stats import median_abs_deviation\n",
    "\n",
    "datos = np.array([10, 12, 2, 10, 1, 10, 3])\n",
    "datos_con_atipico = np.array([10, 12, 2025, 10, 1, 10, 3])\n",
    "\n",
    "desviacion_datos = np.std(datos,ddof=1) \n",
    "desviacion_datos_con_atipico = np.std(datos_con_atipico,ddof=1)\n",
    "\n",
    "MAD_datos = median_abs_deviation(datos) \n",
    "MAD_datos_con_atipico = median_abs_deviation(datos_con_atipico)\n",
    "\n",
    "################################################################\n",
    "```"
   ]
  }
 ],
 "metadata": {
  "kernelspec": {
   "display_name": "Python [conda env:base] *",
   "language": "python",
   "name": "conda-base-py"
  },
  "language_info": {
   "codemirror_mode": {
    "name": "ipython",
    "version": 3
   },
   "file_extension": ".py",
   "mimetype": "text/x-python",
   "name": "python",
   "nbconvert_exporter": "python",
   "pygments_lexer": "ipython3",
   "version": "3.12.3"
  }
 },
 "nbformat": 4,
 "nbformat_minor": 5
}
