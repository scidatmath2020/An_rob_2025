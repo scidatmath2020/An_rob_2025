{
 "cells": [
  {
   "cell_type": "markdown",
   "id": "c7450874-738c-4b9d-b878-67057f3045f9",
   "metadata": {},
   "source": [
    "![imagenes](logo.png)"
   ]
  },
  {
   "cell_type": "markdown",
   "id": "7de02509-115b-40b7-8d3d-576b9ced3fbb",
   "metadata": {},
   "source": [
    "# Introducción\n",
    "\n",
    "Los datos atípicos o outliers, o también conocidos como datos anómalos o anomalías, son observaciones cuyos valores son muy diferentes a las otras\n",
    "observaciones del mismo grupo de datos. Desde el punto de vista distribucional, se podría decir que son datos que no pertenecen a la misma distribución que los demás, es decir, han sido creados por un proceso o una distribución diferente.\n",
    "\n",
    "Los datos atípicos pueden ser ocasionados por diversas causas:  \n",
    "\n",
    "**a)** Errores de procedimiento o de medición.  \n",
    "**b)** Acontecimientos extraordinarios.  \n",
    "**c)** Valores muy extremos.  \n",
    "**d)** Causas no conocidas.  "
   ]
  },
  {
   "cell_type": "markdown",
   "id": "2ae758f3-9e04-4b68-a8e2-12ad188852d0",
   "metadata": {},
   "source": [
    "Por ejemplo, una muestra de datos del número de cigarrillos consumidos a diario contiene el valor 60 porque hay un fumador que fuma sesenta cigarrillos al día. Los demás datos son fumadores que no fuman más de 10 cigarrillos, entonces ese fumador es atípico en el sentido de que es un extremo y está muy alejado de lo que sería un fumador estándar.\n",
    "\n",
    "Otro ejemplo puede ser las medidas de altura de 100 personas, se recogen en cm, sin embargo, por un error de medición las medidas de las últimas 10\n",
    "personas se han recogido en metros. Esos valores son atípicos por el error de medición porque sus alturas van a ser números muy pequeños (por\n",
    "ejemplo 1.7 metros) comparados con las alturas de las 90 personas que se les midió en cm (por ejemplo 168 cm). Así que esas 10 personas forman un\n",
    "grupo de outliers en la muestra y pueden distorsionar las estimaciones y los análisis que hagamos sobre nuestros datos."
   ]
  },
  {
   "cell_type": "markdown",
   "id": "c7f06da9-4a84-4bb2-832e-f27a8e1ca7a0",
   "metadata": {},
   "source": [
    "## Ejemplo 1\n",
    "\n",
    "Considera el cúmulo de estrellas conocido como Cyg OB2, situada en la Constelación del Cisne. Algunas estimaciones recientes, basadas en observaciones infrarrojas y estudios de densidad estelar, sugieren que el cúmulo podría tener hasta 10,000 estrellas en total, pero no todas son masivas; muchas son estrellas menos luminosas y difíciles de detectar.\n",
    "\n",
    "Este cúmulo se encuentra a unos 5,000 años luz de la Tierra. Imagina que graficamos la luminosidad contra la temperatuara en algunas estrellas. Uno esperaría que a mayor temperatura habrá mayor luminosidad. Veamos las siguientes gráficas. Al parecer nuestra conjetura es casi cierta, salvo por un pequeño grupo de estrellas que tienen baja temperatura pero muy alta luminosidad. \n",
    "\n",
    "¿A qué se puede deber esto? ¿Alguien se equivocó al recabar la información? ¿Existirá un fenómeno físico escondido en ellas?\n",
    "\n",
    "<img src=\"im001.png\" style=\"display:block; margin:auto;\">\n",
    "\n"
   ]
  },
  {
   "cell_type": "markdown",
   "id": "f8c37768-bf85-4a15-82d9-4d9271f8f24b",
   "metadata": {},
   "source": [
    "## Ejemplo 2\n",
    "\n",
    "Consideremos las primeras 35 temporadas de los Simpson, rankeadas con un valor entre 0 y 100. Los puntajes atípicos pueden ser fácilmente identificados como aquellos capítulos donde el color no \"empareja\" con los demás colores.\n",
    "\n",
    "<img src=\"im002.png\" style=\"display:block; margin:auto;\">"
   ]
  },
  {
   "cell_type": "markdown",
   "id": "2cb25b67-e550-4f5b-a7dd-e69383b7beb7",
   "metadata": {},
   "source": [
    "## ¿Qué es un outlier?\n",
    "\n",
    "Un **outlier** es un dato que no se ajusta al patrón general de los datos. Es por eso que también es llamado *dato atípico* o *anómalo*. \n",
    "\n",
    "Es decir, son observaciones que tienen características muy diferentes a las otras observaciones. Por lo tanto, debemos evaluar el tipo de información que nos pueden proporcionar. \n",
    "\n",
    "Pueden surgir por un error de procedimiento, como la recolección de los datos, o como consecuencia de un evento extraordinario. \n",
    "\n",
    "Su principal problema radica en que son elementos que pueden no ser representativos de una población, pudiendo distorsionar seriamente el comportamiento de los métodos o análisis estadísticos que hagamos.\n",
    "\n",
    "En este sentido, pueden aumentar la varianza (o dispersión) de una característica o sesgar e influir negativamente en las estimaciones que se hagan.\n",
    "\n",
    "\n"
   ]
  }
 ],
 "metadata": {
  "kernelspec": {
   "display_name": "Python [conda env:base] *",
   "language": "python",
   "name": "conda-base-py"
  },
  "language_info": {
   "codemirror_mode": {
    "name": "ipython",
    "version": 3
   },
   "file_extension": ".py",
   "mimetype": "text/x-python",
   "name": "python",
   "nbconvert_exporter": "python",
   "pygments_lexer": "ipython3",
   "version": "3.12.7"
  }
 },
 "nbformat": 4,
 "nbformat_minor": 5
}
