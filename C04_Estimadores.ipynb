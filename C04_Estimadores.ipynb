{
 "cells": [
  {
   "cell_type": "markdown",
   "id": "68c3f47f-9892-4c9d-9458-efba344ee732",
   "metadata": {},
   "source": [
    "![imagenes](logo.png)"
   ]
  },
  {
   "cell_type": "markdown",
   "id": "0ecfc5b8-69c2-45be-990b-008fca8175fb",
   "metadata": {},
   "source": [
    "# Estimadores\n",
    "\n",
    "Consideremos que\n",
    "\n",
    "* Una variable aleatoria $X$ es una característica de la población.\n",
    "\n",
    "* Al no poder tomar la medida de $X$ en toda la población, lo hacemos sobre una muestra de tamaño $n$. Digamos que la muestra es $E_1$, $E_2$,..., $E_n$. Esta muestra debe cumplir que sus elementos son independientes entre sí (es decir, que elegir un elemento de la muestra no condiciona elegir otro elemento).\n",
    "\n",
    "* El valor $X_i$ representa el valor de $X$ en el elemento $E_i$ de la muestra. Por lo tanto $X_i$ es a su vez **una variable aleatoria**. En cuanto tomamos la medida de $X$ en el elemento $E_i$, entonces al valor obtenido lo denotamos por $x_i$ y es lo que se conoce como una **observación**. Como los elementos de la muestra son independientes, entonces las variables $X_1,X_2,...,X_n$ son independientes y tienen la misma distribución que $X$.\n",
    "\n",
    "Por lo tanto, **cualquier función que dependa de las $X_i$ es a su vez una variable aleatoria**.\n",
    "\n",
    "De esta manera, un **estimador** es una función que depende de las $X_i$, así que es una variable aleatoria. Los estimadores son útiles para *estimar* el valor verdadero de la variable aleatoria $X$ en la población. "
   ]
  },
  {
   "cell_type": "markdown",
   "id": "0085ddf9-8019-498d-baf3-7deaafad43da",
   "metadata": {},
   "source": [
    "Los estimadores más utilizados son:\n",
    "\n",
    "* Media muestral: $$\\overline{X}=\\hat{\\mu}=\\frac{X_1+X_2+...+X_n}{n}$$\n",
    "\n",
    "* Varianza muestral: $$\\hat{\\sigma^2}=\\frac{(X_1-\\hat{\\mu})^2+(X_2-\\hat{\\mu})^2+...+(X_n-\\hat{\\mu})^2}{n-1}$$\n",
    "\n",
    "* Proporción muestral: $$\\hat{p}=\\frac{\\mbox{Número de éxitos}}{n}$$"
   ]
  },
  {
   "cell_type": "markdown",
   "id": "3e50cbdd-54eb-477f-a249-bf4415321bcc",
   "metadata": {},
   "source": [
    "Existen infinitas maneras de elegir un estimador para estimar una característica poblacional.\n",
    "\n",
    "Por ejemplo, supongamos que queremos estimar la estatura de todos los personajes de Dragon Ball Z. Tomamos una muestra aleatoria de personajes.\n",
    "\n",
    "<img src=\"im009.png\" style=\"display:block; margin:auto;\">"
   ]
  },
  {
   "cell_type": "markdown",
   "id": "2a16f946-7083-4593-b5e8-527b6b29945a",
   "metadata": {},
   "source": [
    "Obtenemos los siguientes datos:\n",
    "\n",
    "| Personaje      | Estatura |\n",
    "|---------------|----------|\n",
    "| Chaoz        | 1.38 m   |\n",
    "| Ten Shin Han | 1.87 m   |\n",
    "| Maestro Roshi| 1.65 m   |\n",
    "| Yamcha       | 1.83 m   |\n",
    "| Oolong       | 1.21 m   |\n",
    "| Puar         | 0.33 m   |\n",
    "| Bulma        | 1.65 m   |\n",
    "| Vegeta       | 1.64 m   |\n",
    "| Trunks niño  | 1.23 m   |\n",
    "| Gokú         | 1.75 m   |\n",
    "| Buu gordo    | 2.20 m   |\n",
    "| Mr. Satán    | 1.88 m   |\n",
    "| Chichi       | 1.63 m   |\n",
    "| Goten niño   | 1.15 m   |\n",
    "| Piccolo      | 2.26 m   |\n",
    "| Gohan adulto | 1.76 m   |\n",
    "| Videl        | 1.57 m   |\n",
    "| Nº 18        | 1.70 m   |\n",
    "| Krillin      | 1.53 m   |\n",
    "| Marron       | 1.10 m   |\n"
   ]
  },
  {
   "cell_type": "markdown",
   "id": "e180513d-32c0-49e9-86aa-73e6af181d1b",
   "metadata": {},
   "source": [
    "**¿Será buena idea decir que la estatura de los personajes de DBZ es aproximadamente el valor máximo de nuestra muestra?** En este caso es Pícoro, quien mide 2.26m\n",
    "\n",
    "<img src=\"im011.png\" style=\"display:block; margin:auto;\" width=\"30%\">\n"
   ]
  },
  {
   "cell_type": "markdown",
   "id": "06e3e894-e142-4f38-ba26-c735f3f3ef71",
   "metadata": {},
   "source": [
    "**¿Será buena idea decir que la estatura de los personajes de DBZ es aproximadamente el valor mínimo de nuestra muestra?** En este caso es Puar, quien mide 0.33m\n",
    "\n",
    "<img src=\"im010.png\" style=\"display:block; margin:auto;\" width=\"10%\">"
   ]
  },
  {
   "cell_type": "markdown",
   "id": "fd4269d8-a7f5-49a4-baaa-83baa2e287db",
   "metadata": {},
   "source": [
    "**¿Será buena idea decir que la estatura de los personajes de DBZ es aproximadamente el la suma del coseno de los elementos de la muestra?** En este caso es $$\\cos(Chaoz)+\\cos(Ten)+...+\\cos(Krillin)+\\cos(Marron)=-0.1349$$\n",
    "\n",
    "<img src=\"im012.png\" style=\"display:block; margin:auto;\">"
   ]
  },
  {
   "cell_type": "markdown",
   "id": "535150c8-09ba-4d09-997e-6bf5af984be5",
   "metadata": {},
   "source": [
    "Es claro que ninguna de las opciones anteriores funcionaría muy bien. Es por esto que debemos decidir qué estimador es el que más nos sirve. Para esto, definimos algunas propiedades que un buen estimador debe tener:\n",
    "\n",
    "* Insesgadez\n",
    "* Eficiencia\n",
    "* Consistencia"
   ]
  },
  {
   "cell_type": "markdown",
   "id": "e784f450-e5eb-4549-a619-845f411cc589",
   "metadata": {},
   "source": [
    "## Insesgadez\n",
    "\n",
    "Supongamos que queremos estimar un parámetro poblacional $\\theta$ y tenemos un estimador $\\hat{\\theta}$. Es decir, $\\theta$ es el valor verdadero (que no podemos conocer) y $\\hat{\\theta}$ es el estadístico obtenido en la muestra, con el cual queremos aproximarnos al valor de $\\theta$.\n",
    "\n",
    "Como $\\hat{\\theta}$ es un estadístico, entonces es una variable aleatoria. Se define su sesgo como $$bias(\\hat{\\theta})=E[\\hat{\\theta}]-\\theta$$\n",
    "\n",
    "Si el sesgo es 0, se dice que el estimador $\\hat{\\theta}$ es insesgado.\n",
    "\n",
    "Un estimador es *asintóticamente insesgado* si el sesgo tiende a 0 a medida que aumentamos el tamaño de la muestra."
   ]
  },
  {
   "cell_type": "markdown",
   "id": "efc35852-9d2d-4af7-8fb0-40748f815247",
   "metadata": {},
   "source": [
    "## Eficiencia\n",
    "\n",
    "La eficiencia se refiere a la inversa de la varianza: $$Eficiencia(\\hat{\\theta})=\\frac{1}{Var(\\hat{\\theta})}$$"
   ]
  },
  {
   "cell_type": "markdown",
   "id": "3fb26f7f-6a5e-44d6-b835-703fd2fd2b0a",
   "metadata": {},
   "source": [
    "Así, mientras menor sea la varianza, el estimador es más eficiente: si $Var(\\hat{\\theta_1})<Var(\\hat{\\theta_2})$ entonces $$Eficiencia(\\hat{\\theta_1})>Eficiencia(\\hat{\\theta_2})$$"
   ]
  },
  {
   "cell_type": "markdown",
   "id": "2e13840a-b6dd-4ca9-83fa-ee23808b8bcf",
   "metadata": {},
   "source": [
    "## Consistencia\n",
    "\n",
    "Ahora bien, ya sabemos que debemos buscar que el sesgo se minimize y le eficiencia se maximice. Para conseguir ambos objetivos utilizamos el **error cuadrático medio**:\n",
    "\n",
    "$$ECM(\\hat{\\theta})=E[(\\hat{\\theta}-\\theta)^2]=bias^2(\\hat{\\theta})+Var(\\hat{\\theta})$$\n",
    "\n",
    "Un estimador es consistente cuando, al aumentar el tamaño de la muestra, el $ECM$ tiende a 0."
   ]
  },
  {
   "cell_type": "markdown",
   "id": "d4a01d6e-0b00-4710-b39c-35cfe47d7fc4",
   "metadata": {},
   "source": [
    "## Conclusión\n",
    "\n",
    "**Recuerda que nuestro objetivo es estimar el valor verdadero de un parámetro poblacional, es decir, una característica de toda la población (como la estatura promedio).**  \n",
    "\n",
    "Los parámetros poblacionales suelen dividirse en tres categorías principales:  \n",
    "\n",
    "- **Medidas de tendencia central o localización:** Representan un valor típico o central de los datos (por ejemplo, la media o la mediana).  \n",
    "- **Medidas de dispersión:** Indican qué tan dispersos o agrupados están los datos en torno a la tendencia central (como la varianza o el rango intercuartílico).  \n",
    "- **Medidas de forma:** Describen la distribución de los datos, incluyendo su simetría y la forma de su cola (como la asimetría y la curtosis).  "
   ]
  }
 ],
 "metadata": {
  "kernelspec": {
   "display_name": "Python [conda env:base] *",
   "language": "python",
   "name": "conda-base-py"
  },
  "language_info": {
   "codemirror_mode": {
    "name": "ipython",
    "version": 3
   },
   "file_extension": ".py",
   "mimetype": "text/x-python",
   "name": "python",
   "nbconvert_exporter": "python",
   "pygments_lexer": "ipython3",
   "version": "3.12.3"
  }
 },
 "nbformat": 4,
 "nbformat_minor": 5
}
