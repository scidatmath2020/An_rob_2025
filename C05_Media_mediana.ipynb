{
 "cells": [
  {
   "cell_type": "markdown",
   "id": "068f32ce-542d-474b-b9e3-2d49a1fab999",
   "metadata": {},
   "source": [
    "![imagenes](logo.png)"
   ]
  },
  {
   "attachments": {},
   "cell_type": "markdown",
   "id": "2a1defe2-b682-4cc1-bbd0-d47f0ef82d0d",
   "metadata": {},
   "source": [
    "# Medidas de tendencia central\n",
    "\n",
    "Una medida de tendencia central es un número que representa los datos. Las más usuales son la media y la mediana. Veamos cómo se calculan.\n",
    "\n",
    "Si $x_1,x_2,...,x_n$ son $n$ datos, entonces:\n",
    "\n",
    "* **Media.** se trata del promedio aritmético $$\\overline{x}=\\frac{x_1+x_2+...+x_n}{n}$$\n",
    "\n",
    "**Ejemplo.** Supongamos que tenemos los datos 8.46, 2.18, 4.04, 10.84, 5.17, 7.76, 5.67, 2.41, 3.15, 5.19, 8.22, 7.27\n",
    "\n",
    "En total son 12 datos. La media es $$\\overline{x}=\\frac{8.46+2.18+4.04+10.84+5.17+7.76+5.67+2.41+3.15+5.19+8.22+7.27}{12}=5.863$$"
   ]
  },
  {
   "cell_type": "markdown",
   "id": "e92d2dcd-0660-403c-af85-d9e30b2d5c78",
   "metadata": {},
   "source": [
    "* **Mediana.** se trata del valor que divide a los datos en el 50% más alto y el 50% más bajo. Es decir, que una vez que se ordenan los datos del menor al mayor (o viceversa), si $n$ es impar entonces la mediana es el valor que queda a la mitad de la lista ordenada; y si $n$ es par, entonces la mediana es el promedio de los dos datos centrales.\n",
    "\n",
    "**Ejemplo.** Supongamos que tenemos los datos 8.46, 2.18, 4.04, 10.84, 5.17, 7.76, 5.67, 2.41, 3.15, 5.19, 8.22, 7.27\n",
    "\n",
    "Ordenamos de menor a mayor: 2.18, 2.41, 3.15, 4.04, 5.17, 5.19, 5.67, 7.27, 7.76, 8.22, 8.46, 10.84\n",
    "\n",
    "Como hay 12 datos, entonces la mediana es el valor que parte a la mitad a la lista anterior, dejando por debajo a los más pequeños y por arriba a los más grandes. En este caso, como el total de datos es 12 y es par, tendremos que la mediana es promedio de los datos en las posiciones 6 y 7:\n",
    "\n",
    "2.18, 2.41, 3.15, 4.04, 5.17, <span style=\"color:red\">5.19</span>, <span style=\"color:red\">5.67</span>, 7.27, 7.76, 8.22, 8.46, 10.84  \n",
    "\n",
    "$mediana=\\frac{5.19+5.67}{2}=5.43$"
   ]
  },
  {
   "cell_type": "markdown",
   "id": "4f59fecf-d5f6-4894-9a4f-76f75019bad2",
   "metadata": {},
   "source": [
    "De lo anterior, podemos decir que tanto la media (5.863) como la mediana (5.43) son representantes de los valores 2.18, 2.41, 3.15, 4.04, 5.17, 5.19, 5.67, 7.27, 7.76, 8.22, 8.46, 10.84"
   ]
  },
  {
   "cell_type": "markdown",
   "id": "9d7aae37-dbb4-4ed9-ab94-14e2cda7aa01",
   "metadata": {},
   "source": [
    "## Media vs Mediana\n",
    "\n",
    "Ahora bien, ambas tienen diferentes propiedades. \n",
    "\n",
    "Por ejemplo, la media es la medida de tendencia central más utilizada en la práctica. Sin embargo, **se ve fuertemente afectada por la presencia de datos atípicos**. Por su parte, la mediana no se afecta bajo atípicos. En este caso, decimos que la mediana es un **estimador robusto**.\n",
    "\n",
    "Consideremos los siguientes datos:\n",
    "\n",
    "<table>\n",
    "  <tr>\n",
    "    <th>Datos</th>\n",
    "    <td>8</td>\n",
    "    <td>3</td>\n",
    "    <td>9</td>\n",
    "    <td>7</td>\n",
    "    <td>2</td>\n",
    "    <td>8</td>\n",
    "    <td>6</td>\n",
    "    <td>4</td>\n",
    "    <td>7</td>\n",
    "    <td>9</td>\n",
    "    <td>8</td>\n",
    "    <td>5</td>\n",
    "    <td>9</td>\n",
    "  </tr>\n",
    "</table>\n"
   ]
  },
  {
   "cell_type": "markdown",
   "id": "56b94975-361b-40b1-b72a-3af8c319f614",
   "metadata": {},
   "source": [
    "Hagamos su histograma \"sencillo\". Es decir, simplemente dibujar bloques o esferas, tantos como repeticiones de cada valor hay:\n",
    "\n",
    "<img src=\"im014.png\" style=\"display:block; margin:auto;\">"
   ]
  },
  {
   "cell_type": "markdown",
   "id": "e1f2e9dc-312d-4133-85b6-213714d8ca58",
   "metadata": {},
   "source": [
    "De esta manera, podemos observar cómo varían la media y la mediana. "
   ]
  },
  {
   "cell_type": "markdown",
   "id": "08555dc1-153f-4035-b11b-6fa531db58e0",
   "metadata": {},
   "source": [
    "<pre style=\"color: teal; font-family: monospace; text-align: left;\">\n",
    "################################################################\n",
    "#######################     En Excel     #######################\n",
    "################################################################\n",
    "</pre>\n",
    "\n",
    "| Medida  | Código                                   |\n",
    "|---------|-----------------------------------------|\n",
    "| Media   | `=PROMEDIO(celda_inicial:celda_final)` |\n",
    "| Mediana | `=MEDIANA(celda_inicial:celda_final)`  |\n",
    "\n",
    "<pre style=\"color: teal; font-family: monospace; text-align: left;\">\n",
    "################################################################\n",
    "</pre>\n",
    "\n",
    "\n",
    "\n",
    "\n",
    "\n",
    "```r\n",
    "################################################################\n",
    "########################      EN R       #######################\n",
    "################################################################\n",
    "\n",
    "datos = c(8,3,9,7,2,8,6,4,7,9,8,5,9)\n",
    "datos_con_atipico = c(8,3,9,7,2,8,6,4,7,9,8,100,9)\n",
    "\n",
    "media_datos = mean(datos)\n",
    "media_con_atipico = mean(datos_con_atipico)\n",
    "\n",
    "mediana_datos = median(datos)\n",
    "mediana_con_atipico = median(datos_con_atipico)\n",
    "\n",
    "################################################################\n",
    "```\n",
    "\n",
    "```python\n",
    "################################################################\n",
    "########################    EN PYTHON    #######################\n",
    "################################################################\n",
    "\n",
    "import numpy as np\n",
    "\n",
    "datos = np.array([8, 3, 9, 7, 2, 8, 6, 4, 7, 9, 8, 5, 9])\n",
    "datos_con_atipico = np.array([8, 3, 9, 7, 2, 8, 6, 4, 7, 9, 8, 100, 9])\n",
    "\n",
    "media_datos = np.mean(datos)\n",
    "media_con_atipico = np.mean(datos_con_atipico)\n",
    "\n",
    "mediana_datos = np.median(datos)\n",
    "mediana_con_atipico = np.median(datos_con_atipico)\n",
    "\n",
    "################################################################\n",
    "```\n"
   ]
  },
  {
   "cell_type": "markdown",
   "id": "f6abc8e1-ee8a-46bd-a129-276ae5a15da6",
   "metadata": {},
   "source": [
    "De esta manera, ante la presencia de datos atípicos, **la mediana es mejor representante central que la media**"
   ]
  },
  {
   "cell_type": "markdown",
   "id": "185f5635-954a-43e0-9ba4-27d685140e59",
   "metadata": {},
   "source": [
    "## Resumen de funciones:\n",
    "\n",
    "| **Lenguaje** | **Paquetería** | **Estructura de datos** | **Medida**  | **Función** |\n",
    "|-------------|---------------|------------------------|------------|------------|\n",
    "| **Excel**   |               | Rango de celdas       | **Media**  | `=PROMEDIO(dato_inicial:dato_final)` |\n",
    "| **Excel**   |               | Rango de celdas       | **Mediana** | `=MEDIANA(dato_inicial:dato_final)` |\n",
    "| **R**       |               | Vector                | **Media**  | `mean(datos)` |\n",
    "| **R**       |               | Vector                | **Mediana** | `median(datos)` |\n",
    "| **Python**  | NumPy         | Array                 | **Media**  | `np.mean(datos)` |\n",
    "| **Python**  | NumPy         | Array                 | **Mediana** | `np.median(datos)` |\n"
   ]
  }
 ],
 "metadata": {
  "kernelspec": {
   "display_name": "Python [conda env:base] *",
   "language": "python",
   "name": "conda-base-py"
  },
  "language_info": {
   "codemirror_mode": {
    "name": "ipython",
    "version": 3
   },
   "file_extension": ".py",
   "mimetype": "text/x-python",
   "name": "python",
   "nbconvert_exporter": "python",
   "pygments_lexer": "ipython3",
   "version": "3.12.3"
  }
 },
 "nbformat": 4,
 "nbformat_minor": 5
}
