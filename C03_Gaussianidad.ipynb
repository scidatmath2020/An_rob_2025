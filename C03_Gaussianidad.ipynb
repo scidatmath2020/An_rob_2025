{
 "cells": [
  {
   "cell_type": "markdown",
   "id": "f26cbc8d-1da5-4cee-a913-13eb617a923b",
   "metadata": {},
   "source": [
    "![imagenes](logo.png)"
   ]
  },
  {
   "cell_type": "markdown",
   "id": "3aea7c73-3180-431a-8828-b11823fbaf54",
   "metadata": {},
   "source": [
    "# Gaussianidad\n",
    "\n",
    "La **distribución gaussiana**, también llamada **distribución normal**, es un modelo matemático que describe cómo se distribuyen ciertos datos en la naturaleza y en muchas áreas del conocimiento. \n",
    "\n",
    "Se trata de una variable aleatoria continua, donde su función de densidad viene dada por $$f(x)=\\frac{1}{\\sigma\\sqrt{2\\pi}}e^{-\\frac{(x-\\mu)^2}{2\\sigma^2}}$$\n",
    "\n",
    "Por lo tanto su función de distribución es $$F(x)=\\int_{-\\infty}^x\\frac{1}{\\sigma\\sqrt{2\\pi}}e^{-\\frac{(t-\\mu)^2}{2\\sigma^2}}\\,\\mathrm{d}t$$\n",
    "\n",
    "Además, cumple que $E[X]=\\mu$, $Var(X)=\\sigma^2$ y $sd(X)=\\sigma$.\n",
    "\n",
    "Para conocer totalmente el comportamiento de una v.a. gaussiana, basta con conocer su media $\\mu$ y su varianza $\\sigma^2$\n",
    "\n",
    "<img src=\"gaussianas.gif\" style=\"display:block; margin:auto;\">\n",
    "\n",
    "En https://github.com/scidatmath2020/An_rob_2025/blob/main/auxiliares/gaussianas.ggb puedes descargar un archivo **geogebra** para realizar la animación anterior.\n",
    "\n",
    "### ¿Por qué es importante?\n",
    "- **Aparece en muchos fenómenos naturales y sociales:** Desde alturas de personas hasta errores de medición o calificaciones en un examen.  \n",
    "- **Es clave en estadística y aprendizaje automático:** Se usa para hacer predicciones, detectar patrones y modelar incertidumbre.  \n",
    "- **Es la base del Teorema Central del Límite:** Lo que significa que, en muchos casos, al promediar suficientes datos aleatorios, estos terminan siguiendo una distribución normal.\n",
    "\n",
    "Este último punto, aunque no es tan obvio, la hace ser la variable aleatoria más importante de todas tanto en la teoría como en la práctica, sin importar el tipo de investigación: es la más importante en Ciencias Sociales, Naturales, Exactas y Lógicas. \n",
    "\n",
    "En resumen, la distribución gaussiana es una de las herramientas más poderosas en matemáticas y ciencia, ayudándonos a entender y predecir el comportamiento de datos en el mundo real. \n"
   ]
  },
  {
   "cell_type": "markdown",
   "id": "0f26f10c-ab25-4c3e-8550-46f2d2b4e7fb",
   "metadata": {},
   "source": [
    "## Propiedades\n",
    "\n",
    "* Es simétrica con respecto de su media. Es decir, la media actúa como un espejo a su derecha y a su izquierda.\n",
    "\n",
    "* En el intervalo $[\\mu-\\sigma,\\mu+\\sigma]$ se concentra el 68% de los datos.\n",
    "\n",
    "<img src=\"im006.png\" style=\"display:block; margin:auto;\">"
   ]
  },
  {
   "cell_type": "markdown",
   "id": "6b2fff08-7ef4-4816-81b1-e1e77d8e9d1b",
   "metadata": {},
   "source": [
    "* En el intervalo $[\\mu-2\\sigma,\\mu+2\\sigma]$ se concentra el 95.5% de los datos.\n",
    "\n",
    "<img src=\"im007.png\" style=\"display:block; margin:auto;\">"
   ]
  },
  {
   "cell_type": "markdown",
   "id": "a4bed64e-7f5b-4181-81c8-89ff864e8480",
   "metadata": {},
   "source": [
    "* En el intervalo $[\\mu-3\\sigma,\\mu+3\\sigma]$ se concentra el 99.7% de los datos.\n",
    "\n",
    "<img src=\"im008.png\" style=\"display:block; margin:auto;\">"
   ]
  }
 ],
 "metadata": {
  "kernelspec": {
   "display_name": "Python [conda env:base] *",
   "language": "python",
   "name": "conda-base-py"
  },
  "language_info": {
   "codemirror_mode": {
    "name": "ipython",
    "version": 3
   },
   "file_extension": ".py",
   "mimetype": "text/x-python",
   "name": "python",
   "nbconvert_exporter": "python",
   "pygments_lexer": "ipython3",
   "version": "3.12.3"
  }
 },
 "nbformat": 4,
 "nbformat_minor": 5
}
