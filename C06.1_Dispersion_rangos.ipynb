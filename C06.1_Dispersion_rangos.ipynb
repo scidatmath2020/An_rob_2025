{
 "cells": [
  {
   "cell_type": "markdown",
   "id": "4028df8c-c03d-4345-ac04-99020c79ccf5",
   "metadata": {},
   "source": [
    "![imagenes](logo.png)"
   ]
  },
  {
   "cell_type": "markdown",
   "id": "fe1f62c0-d1d5-42a2-b7c6-628eb0ee5ca6",
   "metadata": {},
   "source": [
    "# Dispersión\n",
    "\n",
    "Así como las medidas de tendencia central nos dan representantes globales de datos, las medidas de dispersión nos dicen qué tan dispersos están los datos. Vamos a estudiar algunas medidas de dispersión."
   ]
  },
  {
   "cell_type": "markdown",
   "id": "8e01a9ef-f6f8-4c0d-a8c7-f37a88f2937f",
   "metadata": {},
   "source": [
    "## Rango\n",
    "\n",
    "Se trata de la diferencia entre el mayor y el menor rango: si $x_1,x_2,...,x_n$ son los datos, entonces $$rango=\\max\\{x_1,x_2,...,x_n\\}-\\min\\{x_1,x_2,...,x_n\\}$$\n",
    "\n",
    "Es la medida de dispersión más sencilla. Sin embargo, su problema es que ignora la distribución de los datos.\n",
    "\n",
    "Por ejemplo, consideremos los siguientes datos:\n",
    "<table border=\"1\">\n",
    "  <tr>\n",
    "    <th>Datos_1</th>\n",
    "    <td>10</td>\n",
    "    <td>12</td>\n",
    "    <td>2</td>\n",
    "    <td>10</td>\n",
    "    <td>1</td>\n",
    "    <td>10</td>\n",
    "    <td>3</td>\n",
    "  </tr>\n",
    "  <tr>\n",
    "    <th>Datos_2</th>\n",
    "    <td>8</td>\n",
    "    <td>6</td>\n",
    "    <td>5</td>\n",
    "    <td>4</td>\n",
    "    <td>12</td>\n",
    "    <td>4</td>\n",
    "    <td>1</td>\n",
    "  </tr>\n",
    "    <tr>\n",
    "    <th>Datos_3</th>\n",
    "    <td>12</td>\n",
    "    <td>12</td>\n",
    "    <td>12</td>\n",
    "    <td>12</td>\n",
    "    <td>1</td>\n",
    "    <td>12</td>\n",
    "    <td>12</td>\n",
    "  </tr>\n",
    "</table>\n",
    "\n",
    "<img src=\"im015.png\" style=\"display:block; margin:auto;\">"
   ]
  },
  {
   "cell_type": "markdown",
   "id": "7f45d3ac-c34d-48ff-8a70-a57340291f9b",
   "metadata": {},
   "source": [
    "Como pudiste observar, el rango no cambia. Además, es extremedamente sensible a presencia de datos atípicos."
   ]
  },
  {
   "cell_type": "markdown",
   "id": "5dfcdacc-3818-439e-bb8d-37df601e4a26",
   "metadata": {},
   "source": [
    "## Rango intercuartílico\n",
    "\n",
    "El rango intercuartílico es la diferencia entre el *tercer y el primer cuartil*: $RI=Q_3-Q_1$. Para ello, recordemos qué son los cuartiles."
   ]
  },
  {
   "cell_type": "markdown",
   "id": "1739d962-cc7e-4b5b-84bd-ab89eaf6e92e",
   "metadata": {},
   "source": [
    "El primer cuartil, $Q_1$, es el valor que deja por debajo de sí al 25% de los datos.\n",
    "\n",
    "El segundo cuartil, $Q_2$, es el valor que deja por debajo de sí al 50% de los datos. Es decir, la mediana.\n",
    "\n",
    "El tercer cuartil, $Q_3$, es el valor que deja por debajo de sí al 75% de los datos."
   ]
  },
  {
   "cell_type": "markdown",
   "id": "40f1f090-33eb-4ffc-a419-07428ba3af94",
   "metadata": {},
   "source": [
    "En otras palabras, $Q_2$ es la mediana de los datos; $Q_1$ es la mediana de los datos que quedan debajo de $Q_2$; y $Q_3$ es la mediana de los datos que quedan por arriba de $Q_2$."
   ]
  },
  {
   "cell_type": "markdown",
   "id": "9b1dadc5-64cc-4d29-94dd-b76eb48a54ee",
   "metadata": {},
   "source": [
    "Una de las ventajas del RI es que sí toma en cuenta la distribución frecuencial de los datos. De hecho se trata del rango del \"50% de datos centrales al rededor de la mediana\". Además, en cuanto a outliers, es menos sensible que el rango. Pero depende fuertemente del tamaño muestral y de cuántos atípicos hay.\n",
    "\n",
    "No obstante lo anteriormente dicho, el cálculo de los cuartiles puede dirigirnos a diferentes resultados: hay distintos métodos de cálculo de los cuartiles primero y tercero, según la propia mediana de los datos originales se incluya o excluya en la serie de la mitad mas baja o la mitad más alta de valores."
   ]
  },
  {
   "cell_type": "markdown",
   "id": "95eefe6f-f8c5-4dd5-9ba7-667f22fa7b9c",
   "metadata": {},
   "source": [
    "Dicho esto, la mayoría de los lenguajes de programación utilizan las siguientes fórmulas para los cálculos:\n",
    "\n",
    "Si hay $n$ datos, entonces $$Q_1\\mbox{ se interpola con la posición } (n-1)\\cdot0.25+1\\mbox{ y }Q_3 \\mbox{ se interpola con la posición }(n-1)\\cdot0.75+1$$\n",
    "\n",
    "Por ejemplo, consideremos los mismo conjuntos de datos anteriores:\n",
    "<table border=\"1\">\n",
    "  <tr>\n",
    "    <th>Datos_1</th>\n",
    "    <td>10</td>\n",
    "    <td>12</td>\n",
    "    <td>2</td>\n",
    "    <td>10</td>\n",
    "    <td>1</td>\n",
    "    <td>10</td>\n",
    "    <td>3</td>\n",
    "  </tr>\n",
    "  <tr>\n",
    "    <th>Datos_2</th>\n",
    "    <td>8</td>\n",
    "    <td>6</td>\n",
    "    <td>5</td>\n",
    "    <td>4</td>\n",
    "    <td>12</td>\n",
    "    <td>4</td>\n",
    "    <td>1</td>\n",
    "  </tr>\n",
    "    <tr>\n",
    "    <th>Datos_3</th>\n",
    "    <td>12</td>\n",
    "    <td>12</td>\n",
    "    <td>12</td>\n",
    "    <td>12</td>\n",
    "    <td>1</td>\n",
    "    <td>12</td>\n",
    "    <td>12</td>\n",
    "  </tr>\n",
    "</table>"
   ]
  },
  {
   "cell_type": "markdown",
   "id": "7d2f9c9e-c553-41cc-8644-a3e89514637c",
   "metadata": {},
   "source": [
    "Ordenando de menor a mayor tenemos\n",
    "<table border=\"1\">\n",
    "  <tr>\n",
    "    <th>Datos_1</th>\n",
    "    <td>1</td>\n",
    "    <td>2</td>\n",
    "    <td>3</td>\n",
    "    <td>10</td>\n",
    "    <td>10</td>\n",
    "    <td>10</td>\n",
    "    <td>12</td>\n",
    "  </tr>\n",
    "  <tr>\n",
    "    <th>Datos_2</th>\n",
    "    <td>1</td>\n",
    "    <td>4</td>\n",
    "    <td>4</td>\n",
    "    <td>5</td>\n",
    "    <td>6</td>\n",
    "    <td>8</td>\n",
    "    <td>12</td>\n",
    "  </tr>\n",
    "    <tr>\n",
    "    <th>Datos_3</th>\n",
    "    <td>1</td>\n",
    "    <td>12</td>\n",
    "    <td>12</td>\n",
    "    <td>12</td>\n",
    "    <td>12</td>\n",
    "    <td>12</td>\n",
    "    <td>12</td>\n",
    "  </tr>\n",
    "</table>"
   ]
  },
  {
   "cell_type": "markdown",
   "id": "fe7c8a1b-c160-4b5a-afd3-d0ec5bad96f2",
   "metadata": {},
   "source": [
    "Como hay 7 datos, entonces $n=7$ y por lo tanto $Q_1$ se interpola con la posición $(7-1)\\cdot0.25+1=2.5$; es decir, los lugares 2 y 3; y $Q_3$ se interpola con la posición $(7-1)\\cdot0.75+1=5.5$; es decir, los lugares 5 y 6.\n",
    "\n",
    "De esta manera, para **Datos_1** tenemos $Q_1=\\frac{2+3}{2}=2.5$ y $Q_3=\\frac{10+10}{2}=10$; para **Datos_2** tenemos $Q_1=\\frac{4+4}{2}=4$ y $Q_3=\\frac{6+8}{2}=7$; y para **Datos_3** tenemos $Q_1=\\frac{12+12}{2}=12$ y $Q_3=\\frac{12+12}{2}=12$.\n",
    "\n",
    "Y por lo tanto, los rangos intercuartílicos son $10-2.5=7.5$, $7-4=3$ y $12-12=0$, respectivamente."
   ]
  },
  {
   "cell_type": "markdown",
   "id": "2dc97e06-1a8a-4bd6-8443-f30c618d545d",
   "metadata": {},
   "source": [
    "## Rangos vs Rango Intercuartil\n",
    "\n",
    "Veamos ahora cómo implementar estas medidas de dispersión en diferentes lenguajes.\n",
    "\n",
    "<pre style=\"color: teal; font-family: monospace; text-align: left;\">\n",
    "################################################################\n",
    "#######################     En Excel     #######################\n",
    "################################################################\n",
    "</pre>\n",
    "\n",
    "| Medida  | Código                                   |\n",
    "|---------|-----------------------------------------|\n",
    "| Rango   | `=MAX(celda_inicial:celda_final)-MIN(celda_inicial:celda_final)` |\n",
    "| Rango intercuartil | `=CUARTIL.INC(celda_inicial:celda_final,3)-CUARTIL.INC(celda_inicial:celda_final,1)`  |\n",
    "\n",
    "<pre style=\"color: teal; font-family: monospace; text-align: left;\">\n",
    "################################################################\n",
    "</pre>\n",
    "\n",
    "```r\n",
    "################################################################\n",
    "########################      EN R       #######################\n",
    "################################################################\n",
    "\n",
    "datos = c(10,12,2,10,1,10,3)\n",
    "datos_con_atipico = c(10,12,2,10,1,2025,10,3)\n",
    "\n",
    "rango_datos = max(datos,na.rm=TRUE)-min(datos,na.rm=TRUE)\n",
    "rango_datos_con_atipico = max(datos_con_atipico,na.rm=TRUE)-min(datos_con_atipico,na.rm=TRUE)\n",
    "\n",
    "RI_datos = IQR(datos,na.rm=TRUE)\n",
    "RI_datos_con_atipico = IQR(datos_con_atipico,na.rm=TRUE)\n",
    "\n",
    "################################################################\n",
    "```\n",
    "\n",
    "```python\n",
    "################################################################\n",
    "########################    EN PYTHON    #######################\n",
    "################################################################\n",
    "\n",
    "import numpy as np\n",
    "from scipy.stats import iqr\n",
    "\n",
    "datos = np.array([10, 12, 2, 10, 1, 10, 3])\n",
    "datos_con_atipico = np.array([10, 12, 2, 10, 1, 2025, 10, 3])\n",
    "\n",
    "rango_datos = np.max(datos) - np.min(datos)\n",
    "rango_datos_con_atipico = np.max(datos_con_atipico) - np.min(datos_con_atipico)\n",
    "\n",
    "RI_datos = iqr(datos)  \n",
    "RI_datos_con_atipico = iqr(datos_con_atipico)\n",
    "\n",
    "################################################################\n",
    "```"
   ]
  },
  {
   "cell_type": "markdown",
   "id": "a07ec354-db06-4206-9d83-ea0b739ceb9a",
   "metadata": {},
   "source": [
    "De esta manera, ante la presencia de datos atípicos, el rango intercuartílico es mejor representante de la dispersión que el rango."
   ]
  }
 ],
 "metadata": {
  "kernelspec": {
   "display_name": "Python [conda env:base] *",
   "language": "python",
   "name": "conda-base-py"
  },
  "language_info": {
   "codemirror_mode": {
    "name": "ipython",
    "version": 3
   },
   "file_extension": ".py",
   "mimetype": "text/x-python",
   "name": "python",
   "nbconvert_exporter": "python",
   "pygments_lexer": "ipython3",
   "version": "3.12.3"
  }
 },
 "nbformat": 4,
 "nbformat_minor": 5
}
